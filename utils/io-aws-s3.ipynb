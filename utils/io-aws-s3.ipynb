{
 "cells": [
  {
   "cell_type": "markdown",
   "source": [
    "## Credentials"
   ],
   "metadata": {
    "collapsed": false
   }
  },
  {
   "cell_type": "code",
   "execution_count": 4,
   "outputs": [],
   "source": [
    "!mkdir ~ /.aws"
   ],
   "metadata": {
    "collapsed": false
   }
  },
  {
   "cell_type": "code",
   "execution_count": 5,
   "outputs": [
    {
     "name": "stdout",
     "output_type": "stream",
     "text": [
      "Writing /home/cyprien/.aws/credentials\n"
     ]
    }
   ],
   "source": [
    "% % writefile ~ /.aws / credentials\n",
    "\n",
    "[default]\n",
    "aws_access_key_id =\n",
    "aws_secret_access_key ="
   ],
   "metadata": {
    "collapsed": false
   }
  },
  {
   "cell_type": "code",
   "execution_count": 6,
   "outputs": [
    {
     "name": "stdout",
     "output_type": "stream",
     "text": [
      "Writing /home/cyprien/.aws/config\n"
     ]
    }
   ],
   "source": [
    "% % writefile ~ /.aws / config\n",
    "\n",
    "[default]\n",
    "region = eu - west - 3"
   ],
   "metadata": {
    "collapsed": false
   }
  },
  {
   "cell_type": "markdown",
   "source": [
    "## Export to s3"
   ],
   "metadata": {
    "collapsed": false
   }
  },
  {
   "cell_type": "code",
   "execution_count": 17,
   "outputs": [
    {
     "data": {
      "text/plain": "(12654, 12654)"
     },
     "execution_count": 17,
     "metadata": {},
     "output_type": "execute_result"
    }
   ],
   "source": [
    "import os\n",
    "\n",
    "# Set the directory you want to search\n",
    "folder_path = '../../basalt_neurips_data/MineRLBasaltMakeWaterfall-v0/'\n",
    "\n",
    "# Set the file extensions you want to search for\n",
    "extensions = [\"_preprocessed.mp4\", \"_preprocessed.jsonl\", \"_preprocessed_annotations.jsonl\"]\n",
    "\n",
    "files = []\n",
    "\n",
    "# Iterate through the files in the directory\n",
    "for file in os.listdir(folder_path):\n",
    "    # Check if the file name ends with any of the specified extensions\n",
    "    if any(file.endswith(ext) for ext in extensions):\n",
    "        # If the file name ends with any of the extensions, print the file name\n",
    "        files.append(file)\n",
    "\n",
    "len(files), len(set(files))"
   ],
   "metadata": {
    "collapsed": false
   }
  },
  {
   "cell_type": "code",
   "execution_count": 21,
   "outputs": [
    {
     "name": "stderr",
     "output_type": "stream",
     "text": [
      "100%|██████████| 12654/12654 [07:10<00:00, 29.39it/s]\n"
     ]
    }
   ],
   "source": [
    "from tqdm import tqdm\n",
    "import sys\n",
    "\n",
    "sys.path.append(\"../\")\n",
    "from utils.invalid_files import pp_video, pp_actions, pp_annotations\n",
    "\n",
    "from concurrent.futures import ThreadPoolExecutor\n",
    "import boto3\n",
    "import os\n",
    "\n",
    "\n",
    "def export_files_to_s3(bucket_name, s3_prefix, local_folder, file_extensions):\n",
    "    # Create an S3 client\n",
    "    s3 = boto3.client('s3')\n",
    "\n",
    "    files = []\n",
    "\n",
    "    for file_name in os.listdir(local_folder):\n",
    "        if any([file_name.endswith(file_extension) for file_extension in file_extensions]):\n",
    "            files.append(file_name)\n",
    "\n",
    "    # Create a ThreadPoolExecutor with a certain number of threads\n",
    "    with ThreadPoolExecutor(max_workers=50) as executor:\n",
    "        # Iterate through all the files in the folder\n",
    "        for file_name in tqdm(files[:]):\n",
    "            # Check if the file has the desired extension\n",
    "            if any([file_name.endswith(ext) for ext in file_extensions]):\n",
    "                # Construct the full path to the file\n",
    "                file_path = os.path.join(folder_path, file_name)\n",
    "                # Construct the full S3 object key (including the path within the bucket)\n",
    "                s3_key = os.path.join(s3_prefix, file_name)\n",
    "                # Check if the file already exists in the S3 bucket\n",
    "            try:\n",
    "                s3_object = s3.head_object(Bucket=bucket_name, Key=s3_key)\n",
    "                # If the file exists, check if the size of the local file is the same as the size of the S3 object\n",
    "                if os.path.getsize(file_path) == s3_object['ContentLength']:\n",
    "                    # If the sizes are the same, skip the file\n",
    "                    continue\n",
    "            except s3.exceptions.ClientError as e:\n",
    "                # If the file does not exist, or if there is any other error, catch the exception and proceed with the upload\n",
    "                pass\n",
    "\n",
    "            # Submit a task to the executor to upload the file to S3\n",
    "            executor.submit(s3.upload_file, file_path, bucket_name, s3_key)\n",
    "\n",
    "\n",
    "bucket_name = 'basalt-neurips'\n",
    "folder_path = '../../basalt_neurips_data/MineRLBasaltMakeWaterfall-v0/'\n",
    "s3_prefix = 'basalt_neurips_data/MineRLBasaltMakeWaterfall-v0/'\n",
    "\n",
    "export_files_to_s3(bucket_name, s3_prefix, folder_path, [pp_video, pp_actions, pp_annotations])"
   ],
   "metadata": {
    "collapsed": false
   }
  },
  {
   "cell_type": "markdown",
   "source": [
    "## Import from s3"
   ],
   "metadata": {
    "collapsed": false
   }
  },
  {
   "cell_type": "code",
   "execution_count": 3,
   "outputs": [
    {
     "data": {
      "text/plain": "4218"
     },
     "execution_count": 3,
     "metadata": {},
     "output_type": "execute_result"
    }
   ],
   "source": [
    "import sys\n",
    "import boto3\n",
    "\n",
    "sys.path.append('../')\n",
    "from typing import List\n",
    "from utils.io_s3_tools import get_s3_files, get_s3_files_ends_with\n",
    "\n",
    "s3 = boto3.client('s3')\n",
    "objects = get_s3_files_ends_with(s3, \"basalt-neurips\", \"basalt_neurips_data/MineRLBasaltMakeWaterfall-v0/\", \"mp4\")\n",
    "len(objects)"
   ],
   "metadata": {
    "collapsed": false
   }
  },
  {
   "cell_type": "code",
   "execution_count": 38,
   "outputs": [],
   "source": [
    "# s3.download_file(\"basalt-neurips\", \"basalt_neurips_data/MineRLBasaltMakeWaterfall-v0/cheeky-cornflower-setter-00df0a566647-20220717-135630_preprocessed.jsonl\", \"tmp.jsonl\")"
   ],
   "metadata": {
    "collapsed": false
   }
  },
  {
   "cell_type": "code",
   "execution_count": 1,
   "outputs": [
    {
     "ename": "NameError",
     "evalue": "name 'ok' is not defined",
     "output_type": "error",
     "traceback": [
      "\u001B[0;31m---------------------------------------------------------------------------\u001B[0m",
      "\u001B[0;31mNameError\u001B[0m                                 Traceback (most recent call last)",
      "Cell \u001B[0;32mIn[1], line 1\u001B[0m\n\u001B[0;32m----> 1\u001B[0m \u001B[43mok\u001B[49m\n",
      "\u001B[0;31mNameError\u001B[0m: name 'ok' is not defined"
     ]
    }
   ],
   "source": [
    "ok"
   ],
   "metadata": {
    "collapsed": false
   }
  },
  {
   "cell_type": "code",
   "execution_count": null,
   "outputs": [
    {
     "name": "stderr",
     "output_type": "stream",
     "text": [
      "/home/cyprien/.conda/envs/mc/lib/python3.9/site-packages/gym/logger.py:34: UserWarning: \u001B[33mWARN: Box bound precision lowered by casting to float32\u001B[0m\n",
      "  warnings.warn(colorize(\"%s: %s\" % (\"WARN\", msg % args), \"yellow\"))\n"
     ]
    },
    {
     "name": "stdout",
     "output_type": "stream",
     "text": [
      "12654\n"
     ]
    },
    {
     "name": "stderr",
     "output_type": "stream",
     "text": [
      "  0%|          | 1/12654 [00:00<3:06:26,  1.13it/s][ERROR] utils.io_s3_tools: Error downloading file: {'_condition': <Condition(<unlocked _thread.RLock object owner=0 count=0 at 0x7f1b926e4060>, 0)>, '_state': 'FINISHED', '_result': None, '_exception': FileNotFoundError(2, 'No such file or directory'), '_waiters': [], '_done_callbacks': []}\n"
     ]
    }
   ],
   "source": [
    "\n",
    "import sys\n",
    "import boto3\n",
    "\n",
    "sys.path.append('../')\n",
    "from utils.io_s3_tools import get_s3_files, get_s3_files_ends_with\n",
    "\n",
    "from typing import List\n",
    "from utils.io_s3_tools import get_s3_files, get_s3_files_ends_with\n",
    "from concurrent.futures import as_completed\n",
    "from tqdm import tqdm\n",
    "import sys\n",
    "from utils.io_s3_tools import threaded_download_from_s3\n",
    "\n",
    "sys.path.append(\"../\")\n",
    "\n",
    "from utils.invalid_files import pp_video, pp_actions, pp_annotations\n",
    "import boto3\n",
    "import os\n",
    "\n",
    "import boto3\n",
    "import os\n",
    "from concurrent.futures import ThreadPoolExecutor\n",
    "\n",
    "\n",
    "def download_folder_from_s3(bucket_name, s3_prefix, local_folder, file_extensions, threads=30):\n",
    "    # Create an S3 client\n",
    "    s3 = boto3.client('s3')\n",
    "\n",
    "    objects = [j for i in [get_s3_files_ends_with(s3, \"basalt-neurips\", s3_prefix, ext) for ext in file_extensions] for\n",
    "               j in i]\n",
    "    print(len(objects))\n",
    "    # Create a ThreadPoolExecutor with a certain number of threads\n",
    "\n",
    "    threaded_download_from_s3(s3, bucket_name=bucket_name, files=objects, s3_prefix=s3_prefix,\n",
    "                              local_folder=local_folder, threads=threads,\n",
    "                              show_progress=True,\n",
    "                              log_errors=True)\n",
    "\n",
    "\n",
    "download_folder_from_s3(bucket_name='basalt-neurips',\n",
    "                        s3_prefix='basalt_neurips_data/MineRLBasaltMakeWaterfall-v0/',\n",
    "                        local_folder='../',\n",
    "                        file_extensions=[pp_video, pp_actions, pp_annotations])"
   ],
   "metadata": {
    "collapsed": false
   }
  }
 ],
 "metadata": {
  "kernelspec": {
   "display_name": "Python 3",
   "language": "python",
   "name": "python3"
  },
  "language_info": {
   "codemirror_mode": {
    "name": "ipython",
    "version": 2
   },
   "file_extension": ".py",
   "mimetype": "text/x-python",
   "name": "python",
   "nbconvert_exporter": "python",
   "pygments_lexer": "ipython2",
   "version": "2.7.6"
  }
 },
 "nbformat": 4,
 "nbformat_minor": 0
}
