{
 "cells": [
  {
   "cell_type": "markdown",
   "metadata": {
    "id": "HhTduqM6CoMw"
   },
   "source": [
    "# Replicate the MineRL Colab Example\n",
    "Get [this notebook](https://colab.research.google.com/drive/1laXCpyf0k6O8Oo1AvUK4UrnywK7IcEh3?usp=sharing#scrollTo=2ZDmSMRP8eto) working but with MineRL v1.0.0; priority is: install, and run.\n",
    "\n",
    "N.B. I've commented out the env.close() at the end to make this \"Run All\" safe - but it can be used to safely close a finished env before creating a new one. "
   ]
  },
  {
   "cell_type": "markdown",
   "metadata": {
    "id": "uBuQ58kGg-SV"
   },
   "source": [
    "## Setup and Imports"
   ]
  },
  {
   "cell_type": "code",
   "execution_count": 1,
   "metadata": {
    "id": "5rVIfS15CoBE"
   },
   "outputs": [],
   "source": [
    "#@title Setup Java and Display modules\n",
    "%%capture\n",
    "!sudo add-apt-repository -y ppa:openjdk-r/ppa\n",
    "!sudo apt-get purge openjdk-*\n",
    "!sudo apt-get install openjdk-8-jdk\n",
    "!sudo apt-get install xvfb xserver-xephyr vnc4server python-opengl ffmpeg"
   ]
  },
  {
   "cell_type": "code",
   "execution_count": null,
   "metadata": {
    "id": "flUT1CokDjfv",
    "pycharm": {
     "is_executing": true
    }
   },
   "outputs": [],
   "source": [
    "#@title Install MineRL and Display Packages\n",
    "# %%capture\n",
    "# !pip3 install git+https://github.com/minerllabs/minerl@v1.0.0\n",
    "!pip3 install pyvirtualdisplay\n",
    "!pip3 install -U colabgymrender"
   ]
  },
  {
   "cell_type": "code",
   "execution_count": 4,
   "metadata": {
    "id": "cyMx9g12GzBI",
    "outputId": "fe66396c-b820-4519-eda3-4bca1b24b19e",
    "colab": {
     "base_uri": "https://localhost:8080/",
     "height": 376
    }
   },
   "outputs": [],
   "source": [
    "#@title Import Packages\n",
    "# %%capture\n",
    "import gym\n",
    "import minerl\n",
    "from tqdm.notebook import tqdm\n",
    "from colabgymrender.recorder import Recorder\n",
    "from pyvirtualdisplay import Display\n",
    "import logging\n",
    "logging.disable(logging.ERROR) # reduce clutter, remove if something doesn't work to see the error logs."
   ]
  },
  {
   "cell_type": "markdown",
   "metadata": {
    "id": "NhhG8SFwhAYA"
   },
   "source": [
    "## Action Generation Functions\n",
    "Similar to the original doc - generates a long string of jumping, running and\n",
    "attacking to get some movement through the space"
   ]
  },
  {
   "cell_type": "code",
   "execution_count": 5,
   "metadata": {
    "id": "Rbtl8_owHqpS"
   },
   "outputs": [],
   "source": [
    "def get_action_sequence(repeats = 10):\n",
    "    \"\"\"\n",
    "    Specify the action sequence for the agent to execute.\n",
    "    Let's run around with sharp turns\n",
    "    \"\"\"\n",
    "    action_sequence = []\n",
    "    for _ in range(repeats):\n",
    "      action_sequence += [''] * 20 # wait 1 sec\n",
    "      action_sequence += ['forward attack jump'] * 20 # run forward + attack 1 sec\n",
    "      action_sequence += ['camera:[0,-5]'] * 10 # turn 50deg\n",
    "      action_sequence += ['forward attack jump'] * 20 # run forward + attack 1 sec\n",
    "      action_sequence += ['camera:[0,10]'] * 10 # turn back 100deg\n",
    "      action_sequence += ['forward attack jump'] * 40 # run forward + attack 2 secs\n",
    "      action_sequence += ['camera:[0,-10]'] * 10 # turn 100deg\n",
    "      action_sequence += ['forward attack jump'] * 20 # run forward + attack 1 secs\n",
    "      action_sequence += ['camera:[0,5]'] * 10 # turn back 50deg\n",
    "    return action_sequence\n",
    "\n",
    "def str_to_act(env, actions):\n",
    "    \"\"\"\n",
    "    Simplifies specifying actions for the scripted part of the agent.\n",
    "    Some examples for a string with a single action:\n",
    "        'craft:planks'\n",
    "        'camera:[10,0]'\n",
    "        'attack'\n",
    "        'jump'\n",
    "        ''\n",
    "    There should be no spaces in single actions, as we use spaces to separate actions with multiple \"buttons\" pressed:\n",
    "        'attack sprint forward'\n",
    "        'forward camera:[0,10]'\n",
    "\n",
    "    :param env: base MineRL environment.\n",
    "    :param actions: string of actions.\n",
    "    :return: dict action, compatible with the base MineRL environment.\n",
    "    \"\"\"\n",
    "    act = env.action_space.noop()\n",
    "    for action in actions.split():\n",
    "        if \":\" in action:\n",
    "            k, v = action.split(':')\n",
    "            if k == 'camera':\n",
    "                act[k] = eval(v)\n",
    "            else:\n",
    "                act[k] = v\n",
    "        else:\n",
    "            act[action] = 1\n",
    "    return act"
   ]
  },
  {
   "cell_type": "markdown",
   "metadata": {
    "id": "FI8gLUnMc4RD"
   },
   "source": [
    "## Setup the Environment\n",
    "Run once/everytime you run a cleanup"
   ]
  },
  {
   "cell_type": "code",
   "execution_count": 6,
   "metadata": {
    "id": "Q8T6b6M1Dd54",
    "outputId": "0d44d1ee-3bee-444e-ea5f-36bb71ec8a92",
    "colab": {
     "base_uri": "https://localhost:8080/",
     "height": 185
    }
   },
   "outputs": [],
   "source": [
    "display = Display(visible=0, size=(400, 300))\n",
    "display.start();"
   ]
  },
  {
   "cell_type": "code",
   "execution_count": 7,
   "metadata": {
    "id": "l5-VBEPbGwhu"
   },
   "outputs": [
    {
     "name": "stderr",
     "output_type": "stream",
     "text": [
      "/home/cyprien/anaconda3/envs/mc/lib/python3.9/runpy.py:127: RuntimeWarning: 'minerl.utils.process_watcher' found in sys.modules after import of package 'minerl.utils', but prior to execution of 'minerl.utils.process_watcher'; this may result in unpredictable behaviour\n",
      "  warn(RuntimeWarning(msg))\n"
     ]
    }
   ],
   "source": [
    "env = gym.make('MineRLBasaltFindCave-v0')\n",
    "env = Recorder(env, './video', fps=60)"
   ]
  },
  {
   "cell_type": "markdown",
   "metadata": {
    "id": "nZS7U3dmgpWN"
   },
   "source": [
    "## Run a Run in the Environment\n",
    "(Can be rerun multiple times with different seeds or modifying the get_action_sequence function)"
   ]
  },
  {
   "cell_type": "code",
   "execution_count": 8,
   "metadata": {
    "id": "l6ek-3dqG4ug"
   },
   "outputs": [
    {
     "name": "stderr",
     "output_type": "stream",
     "text": [
      "OpenCV: FFMPEG: tag 0x5634504d/'MP4V' is not supported with codec id 12 and format 'mp4 / MP4 (MPEG-4 Part 14)'\n",
      "OpenCV: FFMPEG: fallback to use tag 0x7634706d/'mp4v'\n"
     ]
    }
   ],
   "source": [
    "action_sequence = get_action_sequence(repeats = 5)\n",
    "env.seed(2413)\n",
    "obs = env.reset()"
   ]
  },
  {
   "cell_type": "code",
   "execution_count": 9,
   "metadata": {
    "id": "sFlSNAO9HwWy"
   },
   "outputs": [
    {
     "data": {
      "text/plain": "  0%|          | 0/800 [00:00<?, ?it/s]",
      "application/vnd.jupyter.widget-view+json": {
       "version_major": 2,
       "version_minor": 0,
       "model_id": "12788c26932b4cbbafb8f42a0043fb88"
      }
     },
     "metadata": {},
     "output_type": "display_data"
    }
   ],
   "source": [
    "total_reward = 0\n",
    "for i, action in enumerate(tqdm(action_sequence)):\n",
    "    obs, reward, done, _ = env.step(str_to_act(env, action))\n",
    "    total_reward += reward\n",
    "    if done:\n",
    "        break"
   ]
  },
  {
   "cell_type": "code",
   "execution_count": 10,
   "metadata": {
    "id": "mZYjhq67iSSg"
   },
   "outputs": [
    {
     "ename": "TypeError",
     "evalue": "got an unexpected keyword argument 'progress_bar'",
     "output_type": "error",
     "traceback": [
      "\u001B[0;31m---------------------------------------------------------------------------\u001B[0m",
      "\u001B[0;31mTypeError\u001B[0m                                 Traceback (most recent call last)",
      "Cell \u001B[0;32mIn[10], line 2\u001B[0m\n\u001B[1;32m      1\u001B[0m env\u001B[38;5;241m.\u001B[39mrelease()\n\u001B[0;32m----> 2\u001B[0m \u001B[43menv\u001B[49m\u001B[38;5;241;43m.\u001B[39;49m\u001B[43mplay\u001B[49m\u001B[43m(\u001B[49m\u001B[43m)\u001B[49m\n\u001B[1;32m      4\u001B[0m \u001B[38;5;28mprint\u001B[39m(\u001B[38;5;124mf\u001B[39m\u001B[38;5;124m'\u001B[39m\u001B[38;5;130;01m\\n\u001B[39;00m\u001B[38;5;124mTotal reward = \u001B[39m\u001B[38;5;132;01m{\u001B[39;00mtotal_reward\u001B[38;5;132;01m}\u001B[39;00m\u001B[38;5;124m'\u001B[39m)\n",
      "File \u001B[0;32m~/anaconda3/envs/mc/lib/python3.9/site-packages/colabgymrender/recorder.py:72\u001B[0m, in \u001B[0;36mRecorder.play\u001B[0;34m(self)\u001B[0m\n\u001B[1;32m     70\u001B[0m filename \u001B[38;5;241m=\u001B[39m \u001B[38;5;124m'\u001B[39m\u001B[38;5;124mtemp-\u001B[39m\u001B[38;5;132;01m{start}\u001B[39;00m\u001B[38;5;124m.mp4\u001B[39m\u001B[38;5;124m'\u001B[39m\n\u001B[1;32m     71\u001B[0m clip \u001B[38;5;241m=\u001B[39m VideoFileClip(\u001B[38;5;28mself\u001B[39m\u001B[38;5;241m.\u001B[39mpath)\n\u001B[0;32m---> 72\u001B[0m \u001B[43mclip\u001B[49m\u001B[38;5;241;43m.\u001B[39;49m\u001B[43mwrite_videofile\u001B[49m\u001B[43m(\u001B[49m\u001B[43mfilename\u001B[49m\u001B[43m,\u001B[49m\u001B[43m \u001B[49m\u001B[43mprogress_bar\u001B[49m\u001B[43m \u001B[49m\u001B[38;5;241;43m=\u001B[39;49m\u001B[43m \u001B[49m\u001B[38;5;28;43;01mFalse\u001B[39;49;00m\u001B[43m,\u001B[49m\u001B[43m \u001B[49m\u001B[43mverbose\u001B[49m\u001B[43m \u001B[49m\u001B[38;5;241;43m=\u001B[39;49m\u001B[43m \u001B[49m\u001B[38;5;28;43;01mFalse\u001B[39;49;00m\u001B[43m)\u001B[49m\n\u001B[1;32m     73\u001B[0m display(Video(filename, embed \u001B[38;5;241m=\u001B[39m \u001B[38;5;28;01mTrue\u001B[39;00m))\n\u001B[1;32m     74\u001B[0m os\u001B[38;5;241m.\u001B[39mremove(filename)\n",
      "File \u001B[0;32m~/anaconda3/envs/mc/lib/python3.9/site-packages/decorator.py:231\u001B[0m, in \u001B[0;36mfun\u001B[0;34m(*args, **kw)\u001B[0m\n\u001B[1;32m    225\u001B[0m \u001B[38;5;124;03m\"\"\"\u001B[39;00m\n\u001B[1;32m    226\u001B[0m \u001B[38;5;124;03mdecorate(func, caller) decorates a function using a caller.\u001B[39;00m\n\u001B[1;32m    227\u001B[0m \u001B[38;5;124;03mIf the caller is a generator function, the resulting function\u001B[39;00m\n\u001B[1;32m    228\u001B[0m \u001B[38;5;124;03mwill be a generator function.\u001B[39;00m\n\u001B[1;32m    229\u001B[0m \u001B[38;5;124;03m\"\"\"\u001B[39;00m\n\u001B[1;32m    230\u001B[0m evaldict \u001B[38;5;241m=\u001B[39m \u001B[38;5;28mdict\u001B[39m(_call_\u001B[38;5;241m=\u001B[39mcaller, _func_\u001B[38;5;241m=\u001B[39mfunc)\n\u001B[0;32m--> 231\u001B[0m es \u001B[38;5;241m=\u001B[39m \u001B[38;5;124m'\u001B[39m\u001B[38;5;124m'\u001B[39m\n\u001B[1;32m    232\u001B[0m \u001B[38;5;28;01mfor\u001B[39;00m i, extra \u001B[38;5;129;01min\u001B[39;00m \u001B[38;5;28menumerate\u001B[39m(extras):\n\u001B[1;32m    233\u001B[0m     ex \u001B[38;5;241m=\u001B[39m \u001B[38;5;124m'\u001B[39m\u001B[38;5;124m_e\u001B[39m\u001B[38;5;132;01m%d\u001B[39;00m\u001B[38;5;124m_\u001B[39m\u001B[38;5;124m'\u001B[39m \u001B[38;5;241m%\u001B[39m i\n",
      "File \u001B[0;32m~/anaconda3/envs/mc/lib/python3.9/site-packages/decorator.py:203\u001B[0m, in \u001B[0;36mfix\u001B[0;34m(args, kwargs, sig)\u001B[0m\n\u001B[1;32m    196\u001B[0m \u001B[38;5;129m@classmethod\u001B[39m\n\u001B[1;32m    197\u001B[0m \u001B[38;5;28;01mdef\u001B[39;00m \u001B[38;5;21mcreate\u001B[39m(\u001B[38;5;28mcls\u001B[39m, obj, body, evaldict, defaults\u001B[38;5;241m=\u001B[39m\u001B[38;5;28;01mNone\u001B[39;00m,\n\u001B[1;32m    198\u001B[0m            doc\u001B[38;5;241m=\u001B[39m\u001B[38;5;28;01mNone\u001B[39;00m, module\u001B[38;5;241m=\u001B[39m\u001B[38;5;28;01mNone\u001B[39;00m, addsource\u001B[38;5;241m=\u001B[39m\u001B[38;5;28;01mTrue\u001B[39;00m, \u001B[38;5;241m*\u001B[39m\u001B[38;5;241m*\u001B[39mattrs):\n\u001B[1;32m    199\u001B[0m     \u001B[38;5;124;03m\"\"\"\u001B[39;00m\n\u001B[1;32m    200\u001B[0m \u001B[38;5;124;03m    Create a function from the strings name, signature and body.\u001B[39;00m\n\u001B[1;32m    201\u001B[0m \u001B[38;5;124;03m    evaldict is the evaluation dictionary. If addsource is true an\u001B[39;00m\n\u001B[1;32m    202\u001B[0m \u001B[38;5;124;03m    attribute __source__ is added to the result. The attributes attrs\u001B[39;00m\n\u001B[0;32m--> 203\u001B[0m \u001B[38;5;124;03m    are added, if any.\u001B[39;00m\n\u001B[1;32m    204\u001B[0m \u001B[38;5;124;03m    \"\"\"\u001B[39;00m\n\u001B[1;32m    205\u001B[0m     \u001B[38;5;28;01mif\u001B[39;00m \u001B[38;5;28misinstance\u001B[39m(obj, \u001B[38;5;28mstr\u001B[39m):  \u001B[38;5;66;03m# \"name(signature)\"\u001B[39;00m\n\u001B[1;32m    206\u001B[0m         name, rest \u001B[38;5;241m=\u001B[39m obj\u001B[38;5;241m.\u001B[39mstrip()\u001B[38;5;241m.\u001B[39msplit(\u001B[38;5;124m'\u001B[39m\u001B[38;5;124m(\u001B[39m\u001B[38;5;124m'\u001B[39m, \u001B[38;5;241m1\u001B[39m)\n",
      "File \u001B[0;32m~/anaconda3/envs/mc/lib/python3.9/inspect.py:3045\u001B[0m, in \u001B[0;36mSignature.bind\u001B[0;34m(self, *args, **kwargs)\u001B[0m\n\u001B[1;32m   3040\u001B[0m \u001B[38;5;28;01mdef\u001B[39;00m \u001B[38;5;21mbind\u001B[39m(\u001B[38;5;28mself\u001B[39m, \u001B[38;5;241m/\u001B[39m, \u001B[38;5;241m*\u001B[39margs, \u001B[38;5;241m*\u001B[39m\u001B[38;5;241m*\u001B[39mkwargs):\n\u001B[1;32m   3041\u001B[0m     \u001B[38;5;124;03m\"\"\"Get a BoundArguments object, that maps the passed `args`\u001B[39;00m\n\u001B[1;32m   3042\u001B[0m \u001B[38;5;124;03m    and `kwargs` to the function's signature.  Raises `TypeError`\u001B[39;00m\n\u001B[1;32m   3043\u001B[0m \u001B[38;5;124;03m    if the passed arguments can not be bound.\u001B[39;00m\n\u001B[1;32m   3044\u001B[0m \u001B[38;5;124;03m    \"\"\"\u001B[39;00m\n\u001B[0;32m-> 3045\u001B[0m     \u001B[38;5;28;01mreturn\u001B[39;00m \u001B[38;5;28;43mself\u001B[39;49m\u001B[38;5;241;43m.\u001B[39;49m\u001B[43m_bind\u001B[49m\u001B[43m(\u001B[49m\u001B[43margs\u001B[49m\u001B[43m,\u001B[49m\u001B[43m \u001B[49m\u001B[43mkwargs\u001B[49m\u001B[43m)\u001B[49m\n",
      "File \u001B[0;32m~/anaconda3/envs/mc/lib/python3.9/inspect.py:3034\u001B[0m, in \u001B[0;36mSignature._bind\u001B[0;34m(self, args, kwargs, partial)\u001B[0m\n\u001B[1;32m   3032\u001B[0m         arguments[kwargs_param\u001B[38;5;241m.\u001B[39mname] \u001B[38;5;241m=\u001B[39m kwargs\n\u001B[1;32m   3033\u001B[0m     \u001B[38;5;28;01melse\u001B[39;00m:\n\u001B[0;32m-> 3034\u001B[0m         \u001B[38;5;28;01mraise\u001B[39;00m \u001B[38;5;167;01mTypeError\u001B[39;00m(\n\u001B[1;32m   3035\u001B[0m             \u001B[38;5;124m'\u001B[39m\u001B[38;5;124mgot an unexpected keyword argument \u001B[39m\u001B[38;5;132;01m{arg!r}\u001B[39;00m\u001B[38;5;124m'\u001B[39m\u001B[38;5;241m.\u001B[39mformat(\n\u001B[1;32m   3036\u001B[0m                 arg\u001B[38;5;241m=\u001B[39m\u001B[38;5;28mnext\u001B[39m(\u001B[38;5;28miter\u001B[39m(kwargs))))\n\u001B[1;32m   3038\u001B[0m \u001B[38;5;28;01mreturn\u001B[39;00m \u001B[38;5;28mself\u001B[39m\u001B[38;5;241m.\u001B[39m_bound_arguments_cls(\u001B[38;5;28mself\u001B[39m, arguments)\n",
      "\u001B[0;31mTypeError\u001B[0m: got an unexpected keyword argument 'progress_bar'"
     ]
    }
   ],
   "source": [
    "env.release()\n",
    "env.play()\n",
    "\n",
    "print(f'\\nTotal reward = {total_reward}')"
   ]
  },
  {
   "cell_type": "markdown",
   "metadata": {
    "id": "eg2sOTjlgxef"
   },
   "source": [
    "## Clean up\n",
    "If this has been run, you'll need to create the environment again.\n",
    "Commented for now, but if not be careful with that \"Run All\" button!"
   ]
  },
  {
   "cell_type": "code",
   "execution_count": null,
   "metadata": {
    "id": "mqJj2IIaIngR"
   },
   "outputs": [],
   "source": [
    "# env.close()"
   ]
  },
  {
   "cell_type": "code",
   "source": [
    "!python --version"
   ],
   "metadata": {
    "id": "12qrPGjwDMnz",
    "outputId": "a4fff5e6-0b8e-4298-be6a-108b4e1055e4",
    "colab": {
     "base_uri": "https://localhost:8080/"
    }
   },
   "execution_count": null,
   "outputs": []
  },
  {
   "cell_type": "code",
   "execution_count": 6,
   "outputs": [
    {
     "output_type": "stream",
     "name": "stdout",
     "text": [
      "Python 3.8.16\n"
     ]
    }
   ],
   "source": [
    "!python --version"
   ],
   "metadata": {
    "collapsed": false
   }
  },
  {
   "cell_type": "code",
   "source": [],
   "metadata": {
    "id": "y_y9fH_7DN-F"
   },
   "execution_count": null,
   "outputs": []
  }
 ],
 "metadata": {
  "colab": {
   "collapsed_sections": [
    "uBuQ58kGg-SV",
    "NhhG8SFwhAYA",
    "FI8gLUnMc4RD"
   ],
   "provenance": []
  },
  "kernelspec": {
   "display_name": "Python 3",
   "name": "python3"
  },
  "language_info": {
   "name": "python"
  }
 },
 "nbformat": 4,
 "nbformat_minor": 0
}
