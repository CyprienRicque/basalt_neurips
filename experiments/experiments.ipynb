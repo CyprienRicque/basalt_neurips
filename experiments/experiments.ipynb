{
 "cells": [
  {
   "cell_type": "code",
   "execution_count": 1,
   "outputs": [
    {
     "data": {
      "text/plain": "{'ESC': 0,\n 'back': 0,\n 'drop': 0,\n 'forward': 0,\n 'hotbar.1': 0,\n 'hotbar.2': 0,\n 'hotbar.3': 0,\n 'hotbar.4': 0,\n 'hotbar.5': 0,\n 'hotbar.6': 0,\n 'hotbar.7': 0,\n 'hotbar.8': 0,\n 'hotbar.9': 0,\n 'inventory': 0,\n 'jump': 0,\n 'left': 0,\n 'right': 0,\n 'sneak': 0,\n 'sprint': 0,\n 'swapHands': 0,\n 'camera': array([1, 2]),\n 'attack': 1,\n 'use': 0,\n 'pickItem': 0}"
     },
     "execution_count": 1,
     "metadata": {},
     "output_type": "execute_result"
    }
   ],
   "source": [
    "import numpy as np\n",
    "from numpy import array\n",
    "\n",
    "action = {'ESC': 0, 'back': 0, 'drop': 0, 'forward': 0, 'hotbar.1': 0, 'hotbar.2': 0, 'hotbar.3': 0, 'hotbar.4': 0, 'hotbar.5': 0, 'hotbar.6': 0, 'hotbar.7': 0, 'hotbar.8': 0, 'hotbar.9': 0, 'inventory': 0, 'jump': 0, 'left': 0, 'right': 0, 'sneak': 0, 'sprint': 0, 'swapHands': 0, 'camera': array([1, 2]), 'attack': 1, 'use': 0, 'pickItem': 0}\n",
    "\n",
    "action"
   ],
   "metadata": {
    "collapsed": false
   }
  },
  {
   "cell_type": "code",
   "execution_count": 16,
   "outputs": [],
   "source": [],
   "metadata": {
    "collapsed": false
   }
  },
  {
   "cell_type": "code",
   "execution_count": null,
   "outputs": [],
   "source": [
    "import numpy as np\n",
    "\n",
    "np.stack([acs.get(k, dummy) for k in Buttons.ALL], axis=-1),"
   ],
   "metadata": {
    "collapsed": false
   }
  },
  {
   "cell_type": "code",
   "execution_count": 17,
   "outputs": [
    {
     "name": "stdout",
     "output_type": "stream",
     "text": [
      "policy_kwargs={'active_reward_monitors': {'craft_stats': {'args': {'collapse_var': True, 'items': ['planks', 'stick', 'crafting_table', 'wooden_pickaxe', 'stone_pickaxe', 'furnace', 'iron_ingot', 'iron_pickaxe', 'diamond_pickaxe', 'torch']}, 'weight': 0}, 'mine_stats': {'args': {'collapse_var': True, 'items': ['log', 'coal_ore', 'stone', 'iron_ore', 'diamond_ore', 'obsidian']}, 'weight': 0}, 'order_invariant_curriculum': {'args': {'curriculum': {'coal': [5, 0.4], 'cobblestone': [11, 0.09090909090909091], 'crafting_table': [1, 1], 'diamond': [10000, 2.6666666666666665], 'diamond_pickaxe': [10000, 8], 'furnace': [1, 1], 'iron_ingot': [3, 1.3333333333333333], 'iron_ore': [3, 1.3333333333333333], 'iron_pickaxe': [1, 4], 'log': [8, 0.125], 'obsidian': [10000, 16], 'planks': [20, 0.05], 'stick': [16, 0.0625], 'stone_pickaxe': [1, 1], 'torch': [16, 0.125], 'wooden_pickaxe': [1, 1]}}, 'weight': 1}, 'pickup_stats': {'args': {'collapse_var': True, 'items': ['log', 'coal', 'cobblestone', 'iron_ore', 'diamond']}, 'weight': 0}, 'variety': {'args': {'collapse_var': True, 'included_items': ['beef', 'chicken', 'leather', 'mutton', 'porkchop', 'bucket', 'milk_bucket', 'water_bucket', 'coal', 'crafting_table', 'furnace', 'diamond', 'gold_ingot', 'gold_ore', 'flint', 'iron_ingot', 'iron_ore', 'shears', 'string', 'cobblestone', 'log', 'planks', 'stick', 'wool', 'obsidian', 'paper', 'redstone', 'wheat', 'cooked_beef', 'cooked_chicken', 'cooked_mutton', 'cooked_porkchop', 'egg', 'feather', 'leather_boots', 'leather_chestplate', 'leather_helmet', 'leather_leggings', 'brick', 'brick_stairs', 'clay', 'clay_ball', 'flower_pot', 'terracotta', 'torch', 'diamond_axe', 'diamond_block', 'diamond_boots', 'diamond_chestplate', 'diamond_helmet', 'diamond_hoe', 'diamond_leggings', 'diamond_pickaxe', 'diamond_shovel', 'diamond_sword', 'dirt', 'golden_apple', 'golden_axe', 'golden_boots', 'golden_chestplate', 'golden_helmet', 'golden_hoe', 'golden_leggings', 'golden_pickaxe', 'golden_shovel', 'golden_sword', 'arrow', 'gravel', 'iron_axe', 'iron_boots', 'iron_chestplate', 'iron_helmet', 'iron_hoe', 'iron_leggings', 'iron_pickaxe', 'iron_shovel', 'iron_sword', 'shield', 'fermented_spider_eye', 'leaves', 'apple', 'bread', 'activator_rail', 'clock', 'compass', 'detector_rail', 'dropper', 'book', 'bookshelf', 'cake', 'filled_map', 'sugar_cane', 'sugar', 'bow', 'dispenser', 'fishing_rod', 'spider_eye', 'stone_axe', 'stone_hoe', 'stone_pickaxe', 'stone_shovel', 'stone_sword', 'boat', 'wooden_axe', 'wooden_hoe', 'wooden_pickaxe', 'wooden_shovel', 'wooden_sword', 'banner', 'bed', 'carpet', 'map', 'redstone_torch', 'wheat_seeds', 'flint_and_steel']}, 'weight': 0}}, 'attention_heads': 16, 'attention_mask_style': 'clipped_causal', 'attention_memory_size': 256, 'diff_mlp_embedding': False, 'hidsize': 2048, 'img_shape': [128, 128, 3], 'impala_chans': [16, 32, 32], 'impala_kwargs': {'post_pool_groups': 1}, 'impala_width': 8, 'init_norm_kwargs': {'batch_norm': False, 'group_norm_groups': 1}, 'n_recurrence_layers': 4, 'only_img_input': True, 'pointwise_ratio': 4, 'pointwise_use_activation': False, 'recurrence_is_residual': True, 'recurrence_type': 'transformer', 'timesteps': 128, 'use_pointwise_layer': True, 'use_pre_lstm_ln': False}\n"
     ]
    }
   ],
   "source": [
    "import sys\n",
    "sys.path.append(\"../\")\n",
    "\n",
    "from src.agent import MineRLAgent\n",
    "import torch\n",
    "\n",
    "import torch\n",
    "\n",
    "\n",
    "in_model = \"../data/VPT-models/2x.model\"\n",
    "in_weights = \"../data/VPT-models/foundation-model-2x.weights\"\n",
    "out_weights = \"../data/agent_st/foundation-model-tl-tt-2x.weights\"\n",
    "\n",
    "environment = \"MineRLBasaltFindCave-v0\"\n",
    "device = \"cuda\"\n",
    "\n",
    "from src.agent import ACTION_TRANSFORMER_KWARGS\n",
    "import pickle\n",
    "from src.lib.actions import ActionTransformer\n",
    "from gym3.types import DictType, Discrete, TensorType\n",
    "from src.lib.action_mapping import CameraHierarchicalMapping\n",
    "\n",
    "agent_parameters = pickle.load(open(in_model, \"rb\"))\n",
    "policy_kwargs = agent_parameters[\"model\"][\"args\"][\"net\"][\"args\"]\n",
    "pi_head_kwargs = agent_parameters[\"model\"][\"args\"][\"pi_head_opts\"]\n",
    "pi_head_kwargs[\"temperature\"] = float(pi_head_kwargs[\"temperature\"])\n",
    "\n",
    "device = torch.device(\"cuda\")\n",
    "action_mapper = CameraHierarchicalMapping(n_camera_bins=11)\n",
    "action_space = action_mapper.get_action_space_update()\n",
    "action_space = DictType(**action_space)\n",
    "\n",
    "action_transformer = ActionTransformer(**ACTION_TRANSFORMER_KWARGS)\n",
    "\n",
    "agent_kwargs = dict(policy_kwargs=policy_kwargs, pi_head_kwargs=pi_head_kwargs, action_space=action_space)\n",
    "\n",
    "\n",
    "agent = MineRLAgent(\n",
    "    None,\n",
    "    device=torch.device(\"cuda\"),\n",
    "    policy_kwargs=policy_kwargs,\n",
    "    pi_head_kwargs=pi_head_kwargs,\n",
    ")\n",
    "agent.load_weights(in_weights)\n"
   ],
   "metadata": {
    "collapsed": false
   }
  },
  {
   "cell_type": "code",
   "execution_count": 25,
   "outputs": [],
   "source": [
    "batch = np.concatenate((np.array(action)[None], np.array(action)[None]), axis=0)"
   ],
   "metadata": {
    "collapsed": false
   }
  },
  {
   "cell_type": "code",
   "execution_count": 24,
   "outputs": [
    {
     "data": {
      "text/plain": "{'ESC': 0,\n 'back': 0,\n 'drop': 0,\n 'forward': 0,\n 'hotbar.1': 0,\n 'hotbar.2': 0,\n 'hotbar.3': 0,\n 'hotbar.4': 0,\n 'hotbar.5': 0,\n 'hotbar.6': 0,\n 'hotbar.7': 0,\n 'hotbar.8': 0,\n 'hotbar.9': 0,\n 'inventory': 0,\n 'jump': 0,\n 'left': 0,\n 'right': 0,\n 'sneak': 0,\n 'sprint': 0,\n 'swapHands': 0,\n 'camera': array([1, 2]),\n 'attack': 1,\n 'use': 0,\n 'pickItem': 0}"
     },
     "execution_count": 24,
     "metadata": {},
     "output_type": "execute_result"
    }
   ],
   "source": [
    "action"
   ],
   "metadata": {
    "collapsed": false
   }
  },
  {
   "cell_type": "code",
   "execution_count": 26,
   "outputs": [
    {
     "data": {
      "text/plain": "{'buttons': tensor([[5]], device='cuda:0'),\n 'camera': tensor([[73]], device='cuda:0')}"
     },
     "execution_count": 26,
     "metadata": {},
     "output_type": "execute_result"
    }
   ],
   "source": [
    "agent_action = agent._env_action_to_agent(\n",
    "    action, to_torch=True, check_if_null=True\n",
    ")\n",
    "agent_action"
   ],
   "metadata": {
    "collapsed": false
   }
  },
  {
   "cell_type": "code",
   "execution_count": 27,
   "outputs": [
    {
     "ename": "IndexError",
     "evalue": "only integers, slices (`:`), ellipsis (`...`), numpy.newaxis (`None`) and integer or boolean arrays are valid indices",
     "output_type": "error",
     "traceback": [
      "\u001B[0;31m---------------------------------------------------------------------------\u001B[0m",
      "\u001B[0;31mIndexError\u001B[0m                                Traceback (most recent call last)",
      "Input \u001B[0;32mIn [27]\u001B[0m, in \u001B[0;36m<cell line: 1>\u001B[0;34m()\u001B[0m\n\u001B[0;32m----> 1\u001B[0m agent_action \u001B[38;5;241m=\u001B[39m \u001B[43magent\u001B[49m\u001B[38;5;241;43m.\u001B[39;49m\u001B[43m_env_action_to_agent\u001B[49m\u001B[43m(\u001B[49m\n\u001B[1;32m      2\u001B[0m \u001B[43m    \u001B[49m\u001B[43mbatch\u001B[49m\u001B[43m,\u001B[49m\u001B[43m \u001B[49m\u001B[43mto_torch\u001B[49m\u001B[38;5;241;43m=\u001B[39;49m\u001B[38;5;28;43;01mTrue\u001B[39;49;00m\u001B[43m,\u001B[49m\u001B[43m \u001B[49m\u001B[43mcheck_if_null\u001B[49m\u001B[38;5;241;43m=\u001B[39;49m\u001B[38;5;28;43;01mTrue\u001B[39;49;00m\n\u001B[1;32m      3\u001B[0m \u001B[43m)\u001B[49m\n",
      "File \u001B[0;32m/media/cyprien/Data/Documents/Github/basalt_neurips/experiments/../src/agent.py:180\u001B[0m, in \u001B[0;36mMineRLAgent._env_action_to_agent\u001B[0;34m(self, minerl_action_transformed, to_torch, check_if_null)\u001B[0m\n\u001B[1;32m    169\u001B[0m \u001B[38;5;28;01mdef\u001B[39;00m \u001B[38;5;21m_env_action_to_agent\u001B[39m(\u001B[38;5;28mself\u001B[39m, minerl_action_transformed, to_torch\u001B[38;5;241m=\u001B[39m\u001B[38;5;28;01mFalse\u001B[39;00m, check_if_null\u001B[38;5;241m=\u001B[39m\u001B[38;5;28;01mFalse\u001B[39;00m):\n\u001B[1;32m    170\u001B[0m     \u001B[38;5;124;03m\"\"\"\u001B[39;00m\n\u001B[1;32m    171\u001B[0m \u001B[38;5;124;03m    Turn action from MineRL to model's action.\u001B[39;00m\n\u001B[1;32m    172\u001B[0m \n\u001B[0;32m   (...)\u001B[0m\n\u001B[1;32m    178\u001B[0m \u001B[38;5;124;03m    If action is null, return \"None\" instead\u001B[39;00m\n\u001B[1;32m    179\u001B[0m \u001B[38;5;124;03m    \"\"\"\u001B[39;00m\n\u001B[0;32m--> 180\u001B[0m     minerl_action \u001B[38;5;241m=\u001B[39m \u001B[38;5;28;43mself\u001B[39;49m\u001B[38;5;241;43m.\u001B[39;49m\u001B[43maction_transformer\u001B[49m\u001B[38;5;241;43m.\u001B[39;49m\u001B[43menv2policy\u001B[49m\u001B[43m(\u001B[49m\u001B[43mminerl_action_transformed\u001B[49m\u001B[43m)\u001B[49m\n\u001B[1;32m    181\u001B[0m     \u001B[38;5;28;01mif\u001B[39;00m check_if_null:\n\u001B[1;32m    182\u001B[0m         \u001B[38;5;28;01mif\u001B[39;00m np\u001B[38;5;241m.\u001B[39mall(minerl_action[\u001B[38;5;124m\"\u001B[39m\u001B[38;5;124mbuttons\u001B[39m\u001B[38;5;124m\"\u001B[39m] \u001B[38;5;241m==\u001B[39m \u001B[38;5;241m0\u001B[39m) \u001B[38;5;129;01mand\u001B[39;00m np\u001B[38;5;241m.\u001B[39mall(minerl_action[\u001B[38;5;124m\"\u001B[39m\u001B[38;5;124mcamera\u001B[39m\u001B[38;5;124m\"\u001B[39m] \u001B[38;5;241m==\u001B[39m \u001B[38;5;28mself\u001B[39m\u001B[38;5;241m.\u001B[39maction_transformer\u001B[38;5;241m.\u001B[39mcamera_zero_bin):\n",
      "File \u001B[0;32m/media/cyprien/Data/Documents/Github/basalt_neurips/experiments/../src/lib/actions.py:170\u001B[0m, in \u001B[0;36mActionTransformer.env2policy\u001B[0;34m(self, acs)\u001B[0m\n\u001B[1;32m    169\u001B[0m \u001B[38;5;28;01mdef\u001B[39;00m \u001B[38;5;21menv2policy\u001B[39m(\u001B[38;5;28mself\u001B[39m, acs):\n\u001B[0;32m--> 170\u001B[0m     nbatch \u001B[38;5;241m=\u001B[39m \u001B[43macs\u001B[49m\u001B[43m[\u001B[49m\u001B[38;5;124;43m\"\u001B[39;49m\u001B[38;5;124;43mcamera\u001B[39;49m\u001B[38;5;124;43m\"\u001B[39;49m\u001B[43m]\u001B[49m\u001B[38;5;241m.\u001B[39mshape[\u001B[38;5;241m0\u001B[39m]\n\u001B[1;32m    171\u001B[0m     dummy \u001B[38;5;241m=\u001B[39m np\u001B[38;5;241m.\u001B[39mzeros((nbatch,))\n\u001B[1;32m    172\u001B[0m     out \u001B[38;5;241m=\u001B[39m {\n\u001B[1;32m    173\u001B[0m         \u001B[38;5;124m\"\u001B[39m\u001B[38;5;124mcamera\u001B[39m\u001B[38;5;124m\"\u001B[39m: \u001B[38;5;28mself\u001B[39m\u001B[38;5;241m.\u001B[39mdiscretize_camera(acs[\u001B[38;5;124m\"\u001B[39m\u001B[38;5;124mcamera\u001B[39m\u001B[38;5;124m\"\u001B[39m]),\n\u001B[1;32m    174\u001B[0m         \u001B[38;5;124m\"\u001B[39m\u001B[38;5;124mbuttons\u001B[39m\u001B[38;5;124m\"\u001B[39m: np\u001B[38;5;241m.\u001B[39mstack([acs\u001B[38;5;241m.\u001B[39mget(k, dummy) \u001B[38;5;28;01mfor\u001B[39;00m k \u001B[38;5;129;01min\u001B[39;00m Buttons\u001B[38;5;241m.\u001B[39mALL], axis\u001B[38;5;241m=\u001B[39m\u001B[38;5;241m-\u001B[39m\u001B[38;5;241m1\u001B[39m),\n\u001B[1;32m    175\u001B[0m     }\n",
      "\u001B[0;31mIndexError\u001B[0m: only integers, slices (`:`), ellipsis (`...`), numpy.newaxis (`None`) and integer or boolean arrays are valid indices"
     ]
    }
   ],
   "source": [
    "agent_action = agent._env_action_to_agent(\n",
    "    batch, to_torch=True, check_if_null=True\n",
    ")"
   ],
   "metadata": {
    "collapsed": false
   }
  },
  {
   "cell_type": "code",
   "execution_count": 29,
   "outputs": [
    {
     "data": {
      "text/plain": "array([{'ESC': 0, 'back': 0, 'drop': 0, 'forward': 0, 'hotbar.1': 0, 'hotbar.2': 0, 'hotbar.3': 0, 'hotbar.4': 0, 'hotbar.5': 0, 'hotbar.6': 0, 'hotbar.7': 0, 'hotbar.8': 0, 'hotbar.9': 0, 'inventory': 0, 'jump': 0, 'left': 0, 'right': 0, 'sneak': 0, 'sprint': 0, 'swapHands': 0, 'camera': array([1, 2]), 'attack': 1, 'use': 0, 'pickItem': 0},\n       {'ESC': 0, 'back': 0, 'drop': 0, 'forward': 0, 'hotbar.1': 0, 'hotbar.2': 0, 'hotbar.3': 0, 'hotbar.4': 0, 'hotbar.5': 0, 'hotbar.6': 0, 'hotbar.7': 0, 'hotbar.8': 0, 'hotbar.9': 0, 'inventory': 0, 'jump': 0, 'left': 0, 'right': 0, 'sneak': 0, 'sprint': 0, 'swapHands': 0, 'camera': array([1, 2]), 'attack': 1, 'use': 0, 'pickItem': 0}],\n      dtype=object)"
     },
     "execution_count": 29,
     "metadata": {},
     "output_type": "execute_result"
    }
   ],
   "source": [
    "batch"
   ],
   "metadata": {
    "collapsed": false
   }
  },
  {
   "cell_type": "code",
   "execution_count": null,
   "outputs": [],
   "source": [],
   "metadata": {
    "collapsed": false
   }
  },
  {
   "cell_type": "code",
   "execution_count": null,
   "outputs": [],
   "source": [],
   "metadata": {
    "collapsed": false
   }
  },
  {
   "cell_type": "code",
   "execution_count": null,
   "outputs": [],
   "source": [],
   "metadata": {
    "collapsed": false
   }
  },
  {
   "cell_type": "code",
   "execution_count": 1,
   "outputs": [
    {
     "data": {
      "text/plain": "Parameter containing:\ntensor([[ 1.0000,  1.0000,  1.0000],\n        [-0.2813, -0.6042,  1.3380],\n        [-1.3182, -1.5247,  0.7908]], requires_grad=True)"
     },
     "execution_count": 1,
     "metadata": {},
     "output_type": "execute_result"
    }
   ],
   "source": [
    "import torch\n",
    "from torch import nn\n",
    "\n",
    "# an Embedding module containing 10 tensors of size 3\n",
    "embedding = nn.Embedding(10, 3)\n",
    "# a batch of 2 samples of 4 indices each\n",
    "input = torch.LongTensor([[1,2,4,5],[4,3,2,9]])\n",
    "embedding(input)\n",
    "\n",
    "\n",
    "\n",
    "# example with padding_idx\n",
    "embedding = nn.Embedding(10, 3, padding_idx=0)\n",
    "input = torch.LongTensor([[0,2,0,5]])\n",
    "embedding(input)\n",
    "\n",
    "# example of changing `pad` vector\n",
    "padding_idx = 0\n",
    "embedding = nn.Embedding(3, 3, padding_idx=padding_idx)\n",
    "embedding.weight\n",
    "with torch.no_grad():\n",
    "    embedding.weight[padding_idx] = torch.ones(3)\n",
    "embedding.weight"
   ],
   "metadata": {
    "collapsed": false
   }
  },
  {
   "cell_type": "code",
   "execution_count": 10,
   "outputs": [
    {
     "data": {
      "text/plain": "tensor([[-0.1791, -1.4786, -0.1154],\n        [ 1.2455,  1.0634, -0.8497],\n        [-1.5669,  0.4748,  0.9578],\n        [ 0.7715, -1.1459, -1.1600],\n        [ 0.2507, -0.7769, -0.4420],\n        [-1.2183,  1.5122, -0.0402],\n        [-0.1726,  0.2697, -1.6306],\n        [ 0.3161, -0.1922, -2.1125],\n        [-0.8778, -0.7724, -0.8507],\n        [ 1.7138,  0.3540,  1.0472]], grad_fn=<EmbeddingBackward0>)"
     },
     "execution_count": 10,
     "metadata": {},
     "output_type": "execute_result"
    }
   ],
   "source": [
    "import torch\n",
    "from torch import nn\n",
    "\n",
    "embedding = nn.Embedding(10, 3)\n",
    "# a batch of 2 samples of 4 indices each\n",
    "input = torch.LongTensor([0, 1, 2, 3, 4, 5, 6, 7, 8, 9])\n",
    "embedding(input)\n"
   ],
   "metadata": {
    "collapsed": false
   }
  },
  {
   "cell_type": "code",
   "execution_count": 6,
   "outputs": [
    {
     "data": {
      "text/plain": "Parameter containing:\ntensor([[ 0.2511, -0.1162,  0.1950],\n        [-0.6969,  0.3637,  0.6909],\n        [ 0.1259,  1.0499, -3.4100],\n        [-0.4170, -0.0376, -0.7726],\n        [-1.1543, -1.4417,  0.8481],\n        [ 0.1249, -0.2237,  2.0584],\n        [ 2.3056,  0.8252,  0.5547],\n        [-1.1525, -1.4594, -1.0760],\n        [-0.1649, -0.3159, -0.5948],\n        [-0.8411,  0.7088,  0.4963]], requires_grad=True)"
     },
     "execution_count": 6,
     "metadata": {},
     "output_type": "execute_result"
    }
   ],
   "source": [
    "embedding.weight"
   ],
   "metadata": {
    "collapsed": false
   }
  },
  {
   "cell_type": "code",
   "execution_count": null,
   "outputs": [],
   "source": [],
   "metadata": {
    "collapsed": false
   }
  },
  {
   "cell_type": "code",
   "execution_count": null,
   "outputs": [],
   "source": [],
   "metadata": {
    "collapsed": false
   }
  },
  {
   "cell_type": "code",
   "execution_count": 16,
   "outputs": [],
   "source": [
    "from torch import nn\n",
    "import torch\n",
    "\n",
    "n_workers = 4\n",
    "# Define the nn.Embedding layer\n",
    "emb = nn.Embedding(n_workers, 5)\n",
    "emb.requires_grad_(False)\n",
    "\n",
    "emb.weight[torch.LongTensor([0, 2])] = torch.zeros((2, 5))"
   ],
   "metadata": {
    "collapsed": false
   }
  },
  {
   "cell_type": "code",
   "execution_count": 17,
   "outputs": [
    {
     "data": {
      "text/plain": "tensor([[0., 0., 0., 0., 0.],\n        [0., 0., 0., 0., 0.]])"
     },
     "execution_count": 17,
     "metadata": {},
     "output_type": "execute_result"
    }
   ],
   "source": [
    "emb(torch.LongTensor([0, 2]))"
   ],
   "metadata": {
    "collapsed": false
   }
  },
  {
   "cell_type": "code",
   "execution_count": 21,
   "outputs": [
    {
     "data": {
      "text/plain": "Parameter containing:\ntensor([[ 0.0000,  0.0000,  0.0000,  0.0000,  0.0000],\n        [ 0.7215,  0.4973, -0.3135, -0.3438, -0.1302],\n        [ 0.0000,  0.0000,  0.0000,  0.0000,  0.0000],\n        [ 0.2719, -0.1331,  1.0734, -0.2849,  0.1590]])"
     },
     "execution_count": 21,
     "metadata": {},
     "output_type": "execute_result"
    }
   ],
   "source": [
    "emb.weight"
   ],
   "metadata": {
    "collapsed": false
   }
  }
 ],
 "metadata": {
  "kernelspec": {
   "display_name": "Python 3",
   "language": "python",
   "name": "python3"
  },
  "language_info": {
   "codemirror_mode": {
    "name": "ipython",
    "version": 2
   },
   "file_extension": ".py",
   "mimetype": "text/x-python",
   "name": "python",
   "nbconvert_exporter": "python",
   "pygments_lexer": "ipython2",
   "version": "2.7.6"
  }
 },
 "nbformat": 4,
 "nbformat_minor": 0
}
