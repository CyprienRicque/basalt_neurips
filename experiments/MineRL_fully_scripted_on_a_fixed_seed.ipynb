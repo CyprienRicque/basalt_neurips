{
 "nbformat": 4,
 "nbformat_minor": 0,
 "metadata": {
  "colab": {
   "provenance": [],
   "collapsed_sections": [],
   "toc_visible": true
  },
  "kernelspec": {
   "name": "python3",
   "display_name": "Python 3"
  },
  "language_info": {
   "name": "python"
  },
  "widgets": {
   "application/vnd.jupyter.widget-state+json": {
    "7ac848f3a106477da8f94adc616dcc49": {
     "model_module": "@jupyter-widgets/controls",
     "model_name": "HBoxModel",
     "state": {
      "_view_name": "HBoxView",
      "_dom_classes": [],
      "_model_name": "HBoxModel",
      "_view_module": "@jupyter-widgets/controls",
      "_model_module_version": "1.5.0",
      "_view_count": null,
      "_view_module_version": "1.5.0",
      "box_style": "",
      "layout": "IPY_MODEL_db0c7319b7d040fda3eb13911273c00a",
      "_model_module": "@jupyter-widgets/controls",
      "children": [
       "IPY_MODEL_14d23a0b26c940db8e1cfc45b9f5733f",
       "IPY_MODEL_633dbf3a0f384a5caef622c9ca4207b2"
      ]
     },
     "model_module_version": "1.5.0"
    },
    "db0c7319b7d040fda3eb13911273c00a": {
     "model_module": "@jupyter-widgets/base",
     "model_name": "LayoutModel",
     "state": {
      "_view_name": "LayoutView",
      "grid_template_rows": null,
      "right": null,
      "justify_content": null,
      "_view_module": "@jupyter-widgets/base",
      "overflow": null,
      "_model_module_version": "1.2.0",
      "_view_count": null,
      "flex_flow": null,
      "width": null,
      "min_width": null,
      "border": null,
      "align_items": null,
      "bottom": null,
      "_model_module": "@jupyter-widgets/base",
      "top": null,
      "grid_column": null,
      "overflow_y": null,
      "overflow_x": null,
      "grid_auto_flow": null,
      "grid_area": null,
      "grid_template_columns": null,
      "flex": null,
      "_model_name": "LayoutModel",
      "justify_items": null,
      "grid_row": null,
      "max_height": null,
      "align_content": null,
      "visibility": null,
      "align_self": null,
      "height": null,
      "min_height": null,
      "padding": null,
      "grid_auto_rows": null,
      "grid_gap": null,
      "max_width": null,
      "order": null,
      "_view_module_version": "1.2.0",
      "grid_template_areas": null,
      "object_position": null,
      "object_fit": null,
      "grid_auto_columns": null,
      "margin": null,
      "display": null,
      "left": null
     },
     "model_module_version": "1.2.0"
    },
    "14d23a0b26c940db8e1cfc45b9f5733f": {
     "model_module": "@jupyter-widgets/controls",
     "model_name": "FloatProgressModel",
     "state": {
      "_view_name": "ProgressView",
      "style": "IPY_MODEL_66522b73ceeb40d5b1e166c4f6c52d07",
      "_dom_classes": [],
      "description": "100%",
      "_model_name": "FloatProgressModel",
      "bar_style": "success",
      "max": 1394,
      "_view_module": "@jupyter-widgets/controls",
      "_model_module_version": "1.5.0",
      "value": 1394,
      "_view_count": null,
      "_view_module_version": "1.5.0",
      "orientation": "horizontal",
      "min": 0,
      "description_tooltip": null,
      "_model_module": "@jupyter-widgets/controls",
      "layout": "IPY_MODEL_bd644dd3748740c394156b0f3bd353fc"
     },
     "model_module_version": "1.5.0"
    },
    "633dbf3a0f384a5caef622c9ca4207b2": {
     "model_module": "@jupyter-widgets/controls",
     "model_name": "HTMLModel",
     "state": {
      "_view_name": "HTMLView",
      "style": "IPY_MODEL_9df80b97876a4afd9c0024611c83a4aa",
      "_dom_classes": [],
      "description": "",
      "_model_name": "HTMLModel",
      "placeholder": "​",
      "_view_module": "@jupyter-widgets/controls",
      "_model_module_version": "1.5.0",
      "value": " 1394/1394 [01:15&lt;00:00, 18.52it/s]",
      "_view_count": null,
      "_view_module_version": "1.5.0",
      "description_tooltip": null,
      "_model_module": "@jupyter-widgets/controls",
      "layout": "IPY_MODEL_a22840d327084447b18627ed53daa6f3"
     },
     "model_module_version": "1.5.0"
    },
    "66522b73ceeb40d5b1e166c4f6c52d07": {
     "model_module": "@jupyter-widgets/controls",
     "model_name": "ProgressStyleModel",
     "state": {
      "_view_name": "StyleView",
      "_model_name": "ProgressStyleModel",
      "description_width": "initial",
      "_view_module": "@jupyter-widgets/base",
      "_model_module_version": "1.5.0",
      "_view_count": null,
      "_view_module_version": "1.2.0",
      "bar_color": null,
      "_model_module": "@jupyter-widgets/controls"
     },
     "model_module_version": "1.5.0"
    },
    "bd644dd3748740c394156b0f3bd353fc": {
     "model_module": "@jupyter-widgets/base",
     "model_name": "LayoutModel",
     "state": {
      "_view_name": "LayoutView",
      "grid_template_rows": null,
      "right": null,
      "justify_content": null,
      "_view_module": "@jupyter-widgets/base",
      "overflow": null,
      "_model_module_version": "1.2.0",
      "_view_count": null,
      "flex_flow": null,
      "width": null,
      "min_width": null,
      "border": null,
      "align_items": null,
      "bottom": null,
      "_model_module": "@jupyter-widgets/base",
      "top": null,
      "grid_column": null,
      "overflow_y": null,
      "overflow_x": null,
      "grid_auto_flow": null,
      "grid_area": null,
      "grid_template_columns": null,
      "flex": null,
      "_model_name": "LayoutModel",
      "justify_items": null,
      "grid_row": null,
      "max_height": null,
      "align_content": null,
      "visibility": null,
      "align_self": null,
      "height": null,
      "min_height": null,
      "padding": null,
      "grid_auto_rows": null,
      "grid_gap": null,
      "max_width": null,
      "order": null,
      "_view_module_version": "1.2.0",
      "grid_template_areas": null,
      "object_position": null,
      "object_fit": null,
      "grid_auto_columns": null,
      "margin": null,
      "display": null,
      "left": null
     },
     "model_module_version": "1.2.0"
    },
    "9df80b97876a4afd9c0024611c83a4aa": {
     "model_module": "@jupyter-widgets/controls",
     "model_name": "DescriptionStyleModel",
     "state": {
      "_view_name": "StyleView",
      "_model_name": "DescriptionStyleModel",
      "description_width": "",
      "_view_module": "@jupyter-widgets/base",
      "_model_module_version": "1.5.0",
      "_view_count": null,
      "_view_module_version": "1.2.0",
      "_model_module": "@jupyter-widgets/controls"
     },
     "model_module_version": "1.5.0"
    },
    "a22840d327084447b18627ed53daa6f3": {
     "model_module": "@jupyter-widgets/base",
     "model_name": "LayoutModel",
     "state": {
      "_view_name": "LayoutView",
      "grid_template_rows": null,
      "right": null,
      "justify_content": null,
      "_view_module": "@jupyter-widgets/base",
      "overflow": null,
      "_model_module_version": "1.2.0",
      "_view_count": null,
      "flex_flow": null,
      "width": null,
      "min_width": null,
      "border": null,
      "align_items": null,
      "bottom": null,
      "_model_module": "@jupyter-widgets/base",
      "top": null,
      "grid_column": null,
      "overflow_y": null,
      "overflow_x": null,
      "grid_auto_flow": null,
      "grid_area": null,
      "grid_template_columns": null,
      "flex": null,
      "_model_name": "LayoutModel",
      "justify_items": null,
      "grid_row": null,
      "max_height": null,
      "align_content": null,
      "visibility": null,
      "align_self": null,
      "height": null,
      "min_height": null,
      "padding": null,
      "grid_auto_rows": null,
      "grid_gap": null,
      "max_width": null,
      "order": null,
      "_view_module_version": "1.2.0",
      "grid_template_areas": null,
      "object_position": null,
      "object_fit": null,
      "grid_auto_columns": null,
      "margin": null,
      "display": null,
      "left": null
     },
     "model_module_version": "1.2.0"
    }
   }
  }
 },
 "cells": [
  {
   "cell_type": "markdown",
   "metadata": {
    "id": "Pxwl_yG1qhR7"
   },
   "source": [
    "<div style=\"text-align: center\">\n",
    "  <img src=\"https://github.com/KarolisRam/MineRL2021-Intro-baselines/blob/main/img/colab_banner.png?raw=true\">\n",
    "</div>"
   ]
  },
  {
   "cell_type": "markdown",
   "metadata": {
    "id": "-_BGlQwngccr"
   },
   "source": [
    "# Introduction\n",
    "This notebook is part one of the Intro track baselines for the [MineRL 2021](https://minerl.io/) competition. It provides an easy way to try out the MineRL environment without having to install anything on your machine. The notebook should run in 5-10 minutes if you click `Runtime -> Run All` in the menu above.  \n",
    "\n",
    "If you want to edit the notebook, you will have to save a copy to your Google Drive. Simply click `File -> Save a copy in Drive`.\n",
    "\n",
    "Below you will find a fully scripted agent that spawns in a fixed world and executes a sequence of actions to acquire 6 pieces of wood, craft a wooden pickaxe and dig some cobblestone.  \n",
    "\n",
    "You can try adjusting the scripted part to progress further in the task and acquire more rewards. Please note that in the competition setting your agent will spawn in a random world - this is explored in the second notebook:  \n",
    "\n",
    "[MineRL fully scripted](https://colab.research.google.com/drive/1ipj34U_Ub8IsTO0I80o4bUTtltERMErm?usp=sharing)"
   ]
  },
  {
   "cell_type": "markdown",
   "metadata": {
    "id": "9mCU5PuhuM6f"
   },
   "source": [
    "# Setup"
   ]
  },
  {
   "cell_type": "code",
   "metadata": {
    "id": "_HTScYNljgXv"
   },
   "source": [
    "# %%capture\n",
    "# ^ hides output\n",
    "# !sudo add-apt-repository -y ppa:openjdk-r/ppa\n",
    "# !sudo apt-get purge openjdk-*\n",
    "# !sudo apt-get install openjdk-8-jdk\n",
    "!sudo apt-get install xvfb\n",
    "# !sudo apt-get install xserver-xephyr vnc4server python-opengl ffmpeg"
   ],
   "execution_count": 1,
   "outputs": [
    {
     "name": "stdout",
     "output_type": "stream",
     "text": [
      "Identified face as cyprien\r\n",
      "Reading package lists... Done\r\n",
      "Building dependency tree... Done\r\n",
      "Reading state information... Done\r\n",
      "xvfb is already the newest version (2:21.1.3-2ubuntu2.3).\r\n",
      "The following packages were automatically installed and are no longer required:\r\n",
      "  libasound2-dev libflashrom1 libftdi1-2 libportaudiocpp0\r\n",
      "Use 'sudo apt autoremove' to remove them.\r\n",
      "0 upgraded, 0 newly installed, 0 to remove and 0 not upgraded.\r\n"
     ]
    }
   ]
  },
  {
   "cell_type": "code",
   "metadata": {
    "id": "xh6gb3UWjT3p"
   },
   "source": [
    "# %%capture\n",
    "# ^ hides output\n",
    "# !pip3 install --upgrade minerl"
   ],
   "execution_count": 2,
   "outputs": []
  },
  {
   "cell_type": "code",
   "execution_count": 3,
   "outputs": [
    {
     "name": "stdout",
     "output_type": "stream",
     "text": [
      "Collecting pyvirtualdisplay\r\n",
      "  Using cached PyVirtualDisplay-3.0-py3-none-any.whl (15 kB)\r\n",
      "Installing collected packages: pyvirtualdisplay\r\n",
      "Successfully installed pyvirtualdisplay-3.0\r\n",
      "Collecting colabgymrender\r\n",
      "  Using cached colabgymrender-1.1.0.tar.gz (3.5 kB)\r\n",
      "  Preparing metadata (setup.py) ... \u001B[?25ldone\r\n",
      "\u001B[?25hCollecting moviepy\r\n",
      "  Using cached moviepy-1.0.3.tar.gz (388 kB)\r\n",
      "  Preparing metadata (setup.py) ... \u001B[?25ldone\r\n",
      "\u001B[?25hCollecting decorator<5.0,>=4.0.2\r\n",
      "  Using cached decorator-4.4.2-py2.py3-none-any.whl (9.2 kB)\r\n",
      "Requirement already satisfied: tqdm<5.0,>=4.11.2 in /home/cyprien/anaconda3/envs/minecraft/lib/python3.10/site-packages (from moviepy->colabgymrender) (4.64.1)\r\n",
      "Requirement already satisfied: requests<3.0,>=2.8.1 in /home/cyprien/anaconda3/envs/minecraft/lib/python3.10/site-packages (from moviepy->colabgymrender) (2.28.1)\r\n",
      "Collecting proglog<=1.0.0\r\n",
      "  Using cached proglog-0.1.10-py3-none-any.whl (6.1 kB)\r\n",
      "Requirement already satisfied: numpy>=1.17.3 in /home/cyprien/anaconda3/envs/minecraft/lib/python3.10/site-packages (from moviepy->colabgymrender) (1.23.5)\r\n",
      "Requirement already satisfied: imageio<3.0,>=2.5 in /home/cyprien/anaconda3/envs/minecraft/lib/python3.10/site-packages (from moviepy->colabgymrender) (2.22.4)\r\n",
      "Requirement already satisfied: imageio_ffmpeg>=0.2.0 in /home/cyprien/anaconda3/envs/minecraft/lib/python3.10/site-packages (from moviepy->colabgymrender) (0.3.0)\r\n",
      "Requirement already satisfied: pillow>=8.3.2 in /home/cyprien/anaconda3/envs/minecraft/lib/python3.10/site-packages (from imageio<3.0,>=2.5->moviepy->colabgymrender) (9.3.0)\r\n",
      "Requirement already satisfied: idna<4,>=2.5 in /home/cyprien/anaconda3/envs/minecraft/lib/python3.10/site-packages (from requests<3.0,>=2.8.1->moviepy->colabgymrender) (3.4)\r\n",
      "Requirement already satisfied: certifi>=2017.4.17 in /home/cyprien/anaconda3/envs/minecraft/lib/python3.10/site-packages (from requests<3.0,>=2.8.1->moviepy->colabgymrender) (2022.12.7)\r\n",
      "Requirement already satisfied: charset-normalizer<3,>=2 in /home/cyprien/anaconda3/envs/minecraft/lib/python3.10/site-packages (from requests<3.0,>=2.8.1->moviepy->colabgymrender) (2.1.1)\r\n",
      "Requirement already satisfied: urllib3<1.27,>=1.21.1 in /home/cyprien/anaconda3/envs/minecraft/lib/python3.10/site-packages (from requests<3.0,>=2.8.1->moviepy->colabgymrender) (1.26.13)\r\n",
      "Building wheels for collected packages: colabgymrender, moviepy\r\n",
      "  Building wheel for colabgymrender (setup.py) ... \u001B[?25ldone\r\n",
      "\u001B[?25h  Created wheel for colabgymrender: filename=colabgymrender-1.1.0-py3-none-any.whl size=3114 sha256=3975961d6c007dac7d64c512fd5d0f8f7332cda90a1c11e73cb0a1b9d915c139\r\n",
      "  Stored in directory: /home/cyprien/.cache/pip/wheels/98/27/91/37850f9c1ea024629bd9d2b2374cd511f47d1620ef2a947949\r\n",
      "  Building wheel for moviepy (setup.py) ... \u001B[?25ldone\r\n",
      "\u001B[?25h  Created wheel for moviepy: filename=moviepy-1.0.3-py3-none-any.whl size=110727 sha256=e7e2bc942a54f32ad32576e4173f086345ccc5ee843aa31c523dbc78c0aeb141\r\n",
      "  Stored in directory: /home/cyprien/.cache/pip/wheels/05/c3/60/ff37aa492e097b78c495e049d4ec5dbd5be98bd9b36eb1f0b1\r\n",
      "Successfully built colabgymrender moviepy\r\n",
      "Installing collected packages: proglog, decorator, moviepy, colabgymrender\r\n",
      "  Attempting uninstall: decorator\r\n",
      "    Found existing installation: decorator 5.1.1\r\n",
      "    Uninstalling decorator-5.1.1:\r\n",
      "      Successfully uninstalled decorator-5.1.1\r\n",
      "Successfully installed colabgymrender-1.1.0 decorator-5.1.1 moviepy-1.0.3 proglog-0.1.10\r\n"
     ]
    }
   ],
   "source": [
    "# %%capture\n",
    "# Install for notebook use\n",
    "!pip3 install pyvirtualdisplay\n",
    "!pip3 install -U colabgymrender"
   ],
   "metadata": {
    "collapsed": false
   }
  },
  {
   "cell_type": "markdown",
   "metadata": {
    "id": "4azuX_ZHoIC8"
   },
   "source": [
    "# Import libraries"
   ]
  },
  {
   "cell_type": "code",
   "metadata": {
    "id": "g8_vZpMFpiD9",
    "colab": {
     "base_uri": "https://localhost:8080/"
    },
    "outputId": "bf438def-490d-4bdf-f61f-9e08f2fdbcd0"
   },
   "source": [
    "import sys\n",
    "sys.path.append(\"../\")\n",
    "\n",
    "import gym\n",
    "import minerl\n",
    "from tqdm.notebook import tqdm\n",
    "from colabgymrender.recorder import Recorder\n",
    "from pyvirtualdisplay import Display\n",
    "import logging\n",
    "from src.utils import str_to_act\n",
    "\n",
    "logging.disable(logging.ERROR) # reduce clutter, remove if something doesn't work to see the error logs."
   ],
   "execution_count": 1,
   "outputs": []
  },
  {
   "cell_type": "markdown",
   "metadata": {
    "id": "5jy5N0AeoMoz"
   },
   "source": [
    "# Start of the agent code"
   ]
  },
  {
   "cell_type": "markdown",
   "metadata": {
    "id": "aaUKtO-3oVKu"
   },
   "source": [
    "# Actions\n",
    "Here's a list of all possible actions:\n",
    "```\n",
    "Dict(attack:Discrete(2),\n",
    "     back:Discrete(2),\n",
    "     camera:Box(low=-180.0, high=180.0, shape=(2,)),\n",
    "     craft:Enum(crafting_table,none,planks,stick,torch),\n",
    "     equip:Enum(air,iron_axe,iron_pickaxe,none,stone_axe,stone_pickaxe,wooden_axe,wooden_pickaxe),\n",
    "     forward:Discrete(2),\n",
    "     jump:Discrete(2),\n",
    "     left:Discrete(2),\n",
    "     nearbyCraft:Enum(furnace,iron_axe,iron_pickaxe,none,stone_axe,stone_pickaxe,wooden_axe,wooden_pickaxe),\n",
    "     nearbySmelt:Enum(coal,iron_ingot,none),\n",
    "     place:Enum(cobblestone,crafting_table,dirt,furnace,none,stone,torch),\n",
    "     right:Discrete(2),\n",
    "     sneak:Discrete(2),\n",
    "     sprint:Discrete(2))\n",
    "```\n",
    "\n",
    "### Camera\n",
    "Camera actions contain two values:\n",
    "1. Pitch (up/down), where up is negative, down is positive.\n",
    "2. Yaw (left/right), where left is negative, right is positive.  \n",
    "\n",
    "For example, moving the camera up by 10 degrees would be 'camera:[-10,0]'.\n"
   ]
  },
  {
   "cell_type": "markdown",
   "metadata": {
    "id": "_ehM5mNvAGKI"
   },
   "source": [
    "# Change agent behaviour here\n",
    "To change the sequence of actions that the agent performs, change the code inside the `get_action_sequence()` function below. One action is done every tick and there are 20 ticks per second in a regular Minecraft game.  \n"
   ]
  },
  {
   "cell_type": "code",
   "metadata": {
    "id": "8BzwD0sI8fbg"
   },
   "source": [
    "def get_action_sequence():\n",
    "    \"\"\"\n",
    "    Specify the action sequence for the agent to execute.\n",
    "    \"\"\"\n",
    "    # get 6 logs:\n",
    "    action_sequence = []\n",
    "    action_sequence += [''] * 100  # wait 5 sec\n",
    "    action_sequence += ['forward'] * 8\n",
    "    action_sequence += ['attack'] * 61\n",
    "    action_sequence += ['camera:[-10,0]'] * 7  # look up\n",
    "    action_sequence += ['attack'] * 61\n",
    "    action_sequence += ['attack'] * 61\n",
    "    action_sequence += ['attack'] * 61\n",
    "    action_sequence += ['attack'] * 61\n",
    "    action_sequence += [''] * 50\n",
    "    action_sequence += ['jump']\n",
    "    action_sequence += ['forward'] * 10\n",
    "    action_sequence += ['camera:[-10,0]'] * 2\n",
    "    action_sequence += ['attack'] * 61\n",
    "    action_sequence += ['attack'] * 61\n",
    "    action_sequence += ['attack'] * 61\n",
    "    action_sequence += ['camera:[10,0]'] * 9  # look down\n",
    "    action_sequence += [''] * 50\n",
    "\n",
    "    # make planks, sticks, crafting table and wooden pickaxe:\n",
    "    action_sequence += ['back'] * 2\n",
    "    action_sequence += ['craft:planks'] * 4\n",
    "    action_sequence += ['craft:stick'] * 2\n",
    "    action_sequence += ['craft:crafting_table']\n",
    "    action_sequence += ['camera:[10,0]'] * 9\n",
    "    action_sequence += ['jump']\n",
    "    action_sequence += [''] * 5\n",
    "    action_sequence += ['place:crafting_table']\n",
    "    action_sequence += [''] * 10\n",
    "\n",
    "    # bug: looking straight down at a crafting table doesn't let you craft. So we look up a bit before crafting:\n",
    "    action_sequence += ['camera:[-1,0]']\n",
    "    action_sequence += ['nearbyCraft:wooden_pickaxe']\n",
    "    action_sequence += ['camera:[1,0]']\n",
    "    action_sequence += [''] * 10\n",
    "    action_sequence += ['equip:wooden_pickaxe']\n",
    "    action_sequence += [''] * 10\n",
    "\n",
    "    # dig down:\n",
    "    action_sequence += ['attack'] * 600\n",
    "    action_sequence += [''] * 10\n",
    "\n",
    "    return action_sequence"
   ],
   "execution_count": 2,
   "outputs": []
  },
  {
   "cell_type": "markdown",
   "metadata": {
    "id": "PYdy3UhroZy8"
   },
   "source": [
    "# Start Minecraft"
   ]
  },
  {
   "cell_type": "code",
   "metadata": {
    "id": "K9OKQCgz4XQk"
   },
   "source": [
    "display = Display(visible=False, size=(400, 300))\n",
    "display.start();"
   ],
   "execution_count": 3,
   "outputs": []
  },
  {
   "cell_type": "code",
   "metadata": {
    "id": "puIkiKpo8h2O"
   },
   "source": [
    "# env = gym.make('MineRLObtainDiamond-v0')\n",
    "env = gym.make('MineRLBasaltFindCave-v0')\n",
    "env = Recorder(env, './video', fps=60)"
   ],
   "execution_count": 4,
   "outputs": [
    {
     "name": "stderr",
     "output_type": "stream",
     "text": [
      "/home/cyprien/anaconda3/envs/mc/lib/python3.9/runpy.py:127: RuntimeWarning: 'minerl.utils.process_watcher' found in sys.modules after import of package 'minerl.utils', but prior to execution of 'minerl.utils.process_watcher'; this may result in unpredictable behaviour\n",
      "  warn(RuntimeWarning(msg))\n"
     ]
    }
   ]
  },
  {
   "cell_type": "markdown",
   "metadata": {
    "id": "mml67tLIodHo"
   },
   "source": [
    "# Run your agent\n",
    "After the code below finishes you should see a video of the agent and a line saying it received 35.0 reward."
   ]
  },
  {
   "cell_type": "code",
   "metadata": {
    "id": "VfLeadHR8lmq",
    "colab": {
     "base_uri": "https://localhost:8080/",
     "height": 168,
     "referenced_widgets": [
      "7ac848f3a106477da8f94adc616dcc49",
      "db0c7319b7d040fda3eb13911273c00a",
      "14d23a0b26c940db8e1cfc45b9f5733f",
      "633dbf3a0f384a5caef622c9ca4207b2",
      "66522b73ceeb40d5b1e166c4f6c52d07",
      "bd644dd3748740c394156b0f3bd353fc",
      "9df80b97876a4afd9c0024611c83a4aa",
      "a22840d327084447b18627ed53daa6f3"
     ]
    },
    "outputId": "7234a087-3133-4ef4-830c-64bb20519774"
   },
   "source": [
    "action_sequence = get_action_sequence()\n",
    "\n",
    "env.seed(21)\n",
    "obs = env.reset();\n",
    " \n",
    "total_reward = 0\n",
    "for i, action in enumerate(tqdm(action_sequence)):\n",
    "    obs, reward, done, _ = env.step(str_to_act(env, action))\n",
    "    # if reward:\n",
    "    #     print(f\"action executed: {action}\")\n",
    "    #     print(f\"reward: {reward}\")\n",
    "    total_reward += reward\n",
    "    if done:\n",
    "        break\n",
    "\n",
    "env.release()\n",
    "env.play()  # Need to change progress_bar= to debug=None in lib files (recorder.py, play function)\n",
    "\n",
    "print(f'\\nTotal reward = {total_reward}')"
   ],
   "execution_count": 5,
   "outputs": [
    {
     "name": "stderr",
     "output_type": "stream",
     "text": [
      "OpenCV: FFMPEG: tag 0x5634504d/'MP4V' is not supported with codec id 12 and format 'mp4 / MP4 (MPEG-4 Part 14)'\n",
      "OpenCV: FFMPEG: fallback to use tag 0x7634706d/'mp4v'\n"
     ]
    },
    {
     "data": {
      "text/plain": "  0%|          | 0/1394 [00:00<?, ?it/s]",
      "application/vnd.jupyter.widget-view+json": {
       "version_major": 2,
       "version_minor": 0,
       "model_id": "1f7eda609b9b40188b5b96b8a229d04a"
      }
     },
     "metadata": {},
     "output_type": "display_data"
    },
    {
     "ename": "TypeError",
     "evalue": "write_videofile() got an unexpected keyword argument 'progress_bar'",
     "output_type": "error",
     "traceback": [
      "\u001B[0;31m---------------------------------------------------------------------------\u001B[0m",
      "\u001B[0;31mTypeError\u001B[0m                                 Traceback (most recent call last)",
      "Cell \u001B[0;32mIn[5], line 17\u001B[0m\n\u001B[1;32m     14\u001B[0m         \u001B[38;5;28;01mbreak\u001B[39;00m\n\u001B[1;32m     16\u001B[0m env\u001B[38;5;241m.\u001B[39mrelease()\n\u001B[0;32m---> 17\u001B[0m \u001B[43menv\u001B[49m\u001B[38;5;241;43m.\u001B[39;49m\u001B[43mplay\u001B[49m\u001B[43m(\u001B[49m\u001B[43m)\u001B[49m  \u001B[38;5;66;03m# Need to change progress_bar= to debug=None in lib files (recorder.py, play function)\u001B[39;00m\n\u001B[1;32m     19\u001B[0m \u001B[38;5;28mprint\u001B[39m(\u001B[38;5;124mf\u001B[39m\u001B[38;5;124m'\u001B[39m\u001B[38;5;130;01m\\n\u001B[39;00m\u001B[38;5;124mTotal reward = \u001B[39m\u001B[38;5;132;01m{\u001B[39;00mtotal_reward\u001B[38;5;132;01m}\u001B[39;00m\u001B[38;5;124m'\u001B[39m)\n",
      "File \u001B[0;32m~/anaconda3/envs/mc/lib/python3.9/site-packages/colabgymrender/recorder.py:72\u001B[0m, in \u001B[0;36mRecorder.play\u001B[0;34m(self)\u001B[0m\n\u001B[1;32m     70\u001B[0m filename \u001B[38;5;241m=\u001B[39m \u001B[38;5;124m'\u001B[39m\u001B[38;5;124mtemp-\u001B[39m\u001B[38;5;132;01m{start}\u001B[39;00m\u001B[38;5;124m.mp4\u001B[39m\u001B[38;5;124m'\u001B[39m\n\u001B[1;32m     71\u001B[0m clip \u001B[38;5;241m=\u001B[39m VideoFileClip(\u001B[38;5;28mself\u001B[39m\u001B[38;5;241m.\u001B[39mpath)\n\u001B[0;32m---> 72\u001B[0m \u001B[43mclip\u001B[49m\u001B[38;5;241;43m.\u001B[39;49m\u001B[43mwrite_videofile\u001B[49m\u001B[43m(\u001B[49m\u001B[43mfilename\u001B[49m\u001B[43m,\u001B[49m\u001B[43m \u001B[49m\u001B[43mprogress_bar\u001B[49m\u001B[43m \u001B[49m\u001B[38;5;241;43m=\u001B[39;49m\u001B[43m \u001B[49m\u001B[38;5;28;43;01mFalse\u001B[39;49;00m\u001B[43m,\u001B[49m\u001B[43m \u001B[49m\u001B[43mverbose\u001B[49m\u001B[43m \u001B[49m\u001B[38;5;241;43m=\u001B[39;49m\u001B[43m \u001B[49m\u001B[38;5;28;43;01mFalse\u001B[39;49;00m\u001B[43m)\u001B[49m\n\u001B[1;32m     73\u001B[0m display(Video(filename, embed \u001B[38;5;241m=\u001B[39m \u001B[38;5;28;01mTrue\u001B[39;00m))\n\u001B[1;32m     74\u001B[0m os\u001B[38;5;241m.\u001B[39mremove(filename)\n",
      "\u001B[0;31mTypeError\u001B[0m: write_videofile() got an unexpected keyword argument 'progress_bar'"
     ]
    }
   ]
  },
  {
   "cell_type": "code",
   "execution_count": null,
   "outputs": [],
   "source": [],
   "metadata": {
    "collapsed": false
   }
  }
 ]
}
